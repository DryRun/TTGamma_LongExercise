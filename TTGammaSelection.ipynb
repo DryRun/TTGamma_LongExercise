{
 "cells": [
  {
   "cell_type": "code",
   "execution_count": null,
   "metadata": {},
   "outputs": [],
   "source": [
    "#copy a small ttgamma and ttbar file locally\n",
    "!xrdcp root://cmseos.fnal.gov//store/user/lpctop/TTGamma_FullRun2/DannyTests/TTGamma_SingleLept_2016_skimTest.root .\n",
    "!xrdcp root://cmseos.fnal.gov//store/user/lpctop/TTGamma_FullRun2/DannyTests/TTbarPowheg_Semilept_2016_skimTest.root .\n",
    "    "
   ]
  },
  {
   "cell_type": "code",
   "execution_count": null,
   "metadata": {},
   "outputs": [],
   "source": []
  },
  {
   "cell_type": "code",
   "execution_count": null,
   "metadata": {},
   "outputs": [],
   "source": [
    "from coffea import hist, util\n",
    "from coffea.analysis_objects import JaggedCandidateArray\n",
    "\n",
    "import coffea.processor as processor"
   ]
  },
  {
   "cell_type": "code",
   "execution_count": null,
   "metadata": {},
   "outputs": [],
   "source": [
    "class TTGammaCutflow(processor.ProcessorABC):\n",
    "    def __init__(self):\n",
    "\n",
    "        \n",
    "        ### Muon pt\n",
    "        #Declare an axis for the dataset\n",
    "        dataset_axis = hist.Cat(\"dataset\",\"Dataset\")\n",
    "        \n",
    "        #Declare an axis for the muon pt\n",
    "        muon_pt_axis = hist.Bin(\"pt\",\"$p_{T} [GeV]\", 40, 0, 200)\n",
    "        \n",
    "\n",
    "        #Define accumulator object, a dictionary storing \n",
    "        self._accumulator = processor.dict_accumulator({\n",
    "            'muon_pt': hist.Hist(\"Counts\", dataset_axis, muon_pt_axis),\n",
    "        }\n",
    "        )\n",
    "    \n",
    "        ######\n",
    "        ### Step 2. Add a histogram for the muon eta\n",
    "        ######\n",
    "\n",
    "        \n",
    "    @property\n",
    "    def accumulator(self):\n",
    "        return self._accumulator\n",
    "\n",
    "    def process(self, df):\n",
    "        output = self.accumulator.identity()\n",
    "\n",
    "        dataset = df['dataset']\n",
    "        \n",
    "        muons = JaggedCandidateArray.candidatesfromcounts(\n",
    "            df['nMuon'],\n",
    "            pt=df['Muon_pt'],\n",
    "            eta=df['Muon_eta'],\n",
    "            phi=df['Muon_phi'],\n",
    "            mass=df['Muon_mass'],\n",
    "            charge=df['Muon_charge'],\n",
    "            relIso=df['Muon_pfRelIso04_all'],\n",
    "            tightId=df['Muon_tightId'],\n",
    "        )\n",
    "            \n",
    "        #add in jagged candidate array for electrons\n",
    "        #add jagged candidates for jets\n",
    "        \n",
    "        \n",
    "        #select muons with pt >30, eta < 2.4, tight ID, and relIso < 0.15\n",
    "        muonSelectTight = ((muons.pt>30) &\n",
    "                           (abs(muons.eta)<2.4) &\n",
    "                           (muons.tightId) &\n",
    "                           (muons.relIso < 0.15)\n",
    "                          )\n",
    "\n",
    "        tightMuons = muons[muonSelectTight]\n",
    "        \n",
    "        #select events with exactly one tight muon\n",
    "        eventSelection = tightMuons.counts==1 \n",
    "\n",
    "        output['muon_pt'].fill(dataset=dataset,\n",
    "                              pt=tightMuons[eventSelection].pt.flatten())\n",
    "        \n",
    "        return output\n",
    "\n",
    "    def postprocess(self, accumulator):\n",
    "        return accumulator\n"
   ]
  },
  {
   "cell_type": "code",
   "execution_count": null,
   "metadata": {},
   "outputs": [],
   "source": [
    "fileset = {\"TTGamma\":[\"TTGamma_SingleLept_2016_skimTest.root\"],\n",
    "           \"TTbar\":[\"TTbarPowheg_Semilept_2016_skimTest.root\"],\n",
    "          }\n",
    "\n",
    "output = processor.run_uproot_job(fileset,\n",
    "                                  treename='Events',\n",
    "                                  processor_instance=TTGammaCutflow(),\n",
    "                                  executor=processor.futures_executor,\n",
    "                                  executor_args={'workers': 4, 'flatten': True},\n",
    "                                 )"
   ]
  },
  {
   "cell_type": "code",
   "execution_count": null,
   "metadata": {},
   "outputs": [],
   "source": [
    "hist.plot1d(output['muon_pt'],overlay='dataset')"
   ]
  },
  {
   "cell_type": "code",
   "execution_count": null,
   "metadata": {},
   "outputs": [],
   "source": []
  }
 ],
 "metadata": {
  "kernelspec": {
   "display_name": "Python 3",
   "language": "python",
   "name": "python3"
  },
  "language_info": {
   "codemirror_mode": {
    "name": "ipython",
    "version": 3
   },
   "file_extension": ".py",
   "mimetype": "text/x-python",
   "name": "python",
   "nbconvert_exporter": "python",
   "pygments_lexer": "ipython3",
   "version": "3.6.5"
  }
 },
 "nbformat": 4,
 "nbformat_minor": 2
}
